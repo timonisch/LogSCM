{
 "cells": [
  {
   "attachments": {},
   "cell_type": "markdown",
   "id": "a0895b34",
   "metadata": {},
   "source": [
    "# Bin-Pakcaging (week 4)\n",
    "\n",
    "Binary optimization problem definition: </br>\n",
    "Allocation of N objects to M bins, whoes number shall be minimized </br>\n",
    "\n"
   ]
  },
  {
   "cell_type": "code",
   "execution_count": 4,
   "id": "9c3c7dbf",
   "metadata": {},
   "outputs": [],
   "source": [
    "import numpy as np\n",
    "import random\n",
    "random.seed('0123456')\n",
    "\n",
    "numObjects = 40\n",
    "numBins = numObjects  # at most one bin per object\n",
    "K = 1\n",
    "a = np.zeros(numObjects)\n",
    "for i in range(numObjects):\n",
    "    a[i] = random.random()"
   ]
  },
  {
   "cell_type": "code",
   "execution_count": 5,
   "id": "0522bb37",
   "metadata": {},
   "outputs": [],
   "source": [
    "import gurobipy as gp\n",
    "from gurobipy import GRB\n",
    "\n",
    "model = gp.Model() # create Model \n",
    "model.Params.LogToConsole = 0\n",
    "\n",
    "x = {} # Usage of bin i (binary)\n",
    "for i in range(numBins):\n",
    "    for j in range(numObjects):\n",
    "        x[i, j] = model.addVar(vtype=GRB.BINARY)\n",
    "\n",
    "y = {} # Usage of object j to container i (binary)\n",
    "for i in range(numBins):\n",
    "    y[i] = model.addVar(vtype=GRB.BINARY)\n",
    "\n",
    "for i in range(numBins):\n",
    "    model.addConstr(\n",
    "        gp.quicksum(x[i, j]*a[j] for j in range(numObjects)) <= y[i]*K\n",
    "    )\n",
    "for j in range(numObjects):\n",
    "    model.addConstr(\n",
    "        gp.quicksum(x[i, j] for i in range(numBins)) == 1\n",
    "    )\n",
    "\n",
    "obj = gp.quicksum(y[i]*(1+i/numBins) for i in range(numBins)) # Minimize the number of required bins\n",
    "\n",
    "model.setObjective(obj, GRB.MINIMIZE)\n",
    "model.optimize() # solve linear Problem"
   ]
  },
  {
   "cell_type": "code",
   "execution_count": 6,
   "id": "e75e2225",
   "metadata": {},
   "outputs": [
    {
     "data": {
      "image/png": "[encoded data removed]",
      "text/plain": [
       "<Figure size 640x480 with 1 Axes>"
      ]
     },
     "metadata": {},
     "output_type": "display_data"
    }
   ],
   "source": [
    "import matplotlib as mpl\n",
    "import matplotlib.pyplot as plt\n",
    "x_ = {}\n",
    "for j in range(numObjects):\n",
    "    x_[j] = np.zeros(numBins)\n",
    "    x_[j][j] = 1\n",
    "for j in range(numObjects):\n",
    "    plt.bar(range(numBins), x_[j]*a[j], bottom=sum([x_[i]*a[i] for i in range(j)]))\n",
    "plt.xticks([]),plt.yticks([])\n",
    "plt.show()"
   ]
  },
  {
   "cell_type": "code",
   "execution_count": 7,
   "id": "046b750a",
   "metadata": {},
   "outputs": [
    {
     "data": {
      "image/png": "[encoded data removed]",
      "text/plain": [
       "<Figure size 640x480 with 1 Axes>"
      ]
     },
     "metadata": {},
     "output_type": "display_data"
    }
   ],
   "source": [
    "plt.clf()\n",
    "x_ = {}\n",
    "for j in range(numObjects):\n",
    "    x_[j] = np.array([x[i, j].x for i in range(numBins)])\n",
    "\n",
    "for j in range(numObjects):\n",
    "    plt.bar(range(numBins), x_[j]*a[j], bottom=sum([x_[i]*a[i] for i in range(j)]))\n",
    "plt.xticks([]),plt.yticks([])\n",
    "plt.show()"
   ]
  }
 ],
 "metadata": {
  "kernelspec": {
   "display_name": "Python 3 (ipykernel)",
   "language": "python",
   "name": "python3"
  },
  "language_info": {
   "codemirror_mode": {
    "name": "ipython",
    "version": 3
   },
   "file_extension": ".py",
   "mimetype": "text/x-python",
   "name": "python",
   "nbconvert_exporter": "python",
   "pygments_lexer": "ipython3",
   "version": "3.11.3"
  }
 },
 "nbformat": 4,
 "nbformat_minor": 5
}
